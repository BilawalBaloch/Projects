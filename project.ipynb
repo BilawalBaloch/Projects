{
  "nbformat": 4,
  "nbformat_minor": 0,
  "metadata": {
    "colab": {
      "provenance": [],
      "authorship_tag": "ABX9TyNKWLwX7qBYbG/NVKagyHqw",
      "include_colab_link": true
    },
    "kernelspec": {
      "name": "python3",
      "display_name": "Python 3"
    },
    "language_info": {
      "name": "python"
    }
  },
  "cells": [
    {
      "cell_type": "markdown",
      "metadata": {
        "id": "view-in-github",
        "colab_type": "text"
      },
      "source": [
        "<a href=\"https://colab.research.google.com/github/BilawalBaloch/Projects/blob/main/project.ipynb\" target=\"_parent\"><img src=\"https://colab.research.google.com/assets/colab-badge.svg\" alt=\"Open In Colab\"/></a>"
      ]
    },
    {
      "cell_type": "code",
      "execution_count": 1,
      "metadata": {
        "colab": {
          "base_uri": "https://localhost:8080/"
        },
        "id": "jB5ko0B4PKF1",
        "outputId": "ddc928f2-9589-4891-b9e0-bd4a85250898"
      },
      "outputs": [
        {
          "output_type": "stream",
          "name": "stdout",
          "text": [
            "Current demand: 160\n",
            "Current inventory: 280\n",
            "Current competitor price: 54\n",
            "Predicted optimal price: $59.21\n"
          ]
        }
      ],
      "source": [
        "# A simple dynamic pricing algorithm simulation.\n",
        "# This is a conceptual example, not a production-ready solution.\n",
        "\n",
        "import pandas as pd\n",
        "from sklearn.linear_model import LinearRegression\n",
        "from sklearn.model_selection import train_test_split\n",
        "from datetime import datetime\n",
        "\n",
        "# --- Step 1: Simulate historical data ---\n",
        "# In a real-world scenario, you would load this from a database.\n",
        "# Let's imagine we have data on past sales.\n",
        "data = {\n",
        "    'demand': [100, 120, 80, 150, 70, 90, 110, 130, 60, 100],\n",
        "    'inventory': [500, 480, 500, 450, 460, 400, 380, 350, 360, 300],\n",
        "    'competitor_price': [55, 54, 56, 55, 57, 56, 55, 54, 57, 56],\n",
        "    'optimal_price': [50, 52, 48, 55, 45, 49, 53, 56, 47, 51]\n",
        "}\n",
        "df = pd.DataFrame(data)\n",
        "\n",
        "# Define our features (X) and target (y)\n",
        "features = ['demand', 'inventory', 'competitor_price']\n",
        "target = 'optimal_price'\n",
        "\n",
        "X = df[features]\n",
        "y = df[target]\n",
        "\n",
        "# --- Step 2: Train a simple model (Linear Regression) ---\n",
        "# We split the data to train the model.\n",
        "X_train, X_test, y_train, y_test = train_test_split(X, y, test_size=0.2, random_state=42)\n",
        "\n",
        "# Create and train the linear regression model\n",
        "model = LinearRegression()\n",
        "model.fit(X_train, y_train)\n",
        "\n",
        "# --- Step 3: Simulate real-time data and predict price ---\n",
        "def get_current_data():\n",
        "    \"\"\"\n",
        "    Simulates getting real-time data.\n",
        "    In a real app, this would be an API call to your inventory system,\n",
        "    web analytics, and a competitor price tracker.\n",
        "    \"\"\"\n",
        "    current_data = {\n",
        "        'demand': [160],  # A sudden spike in demand\n",
        "        'inventory': [280], # Inventory is getting low\n",
        "        'competitor_price': [54] # Competitor's price is stable\n",
        "    }\n",
        "    return pd.DataFrame(current_data, columns=features)\n",
        "\n",
        "def calculate_new_price():\n",
        "    \"\"\"\n",
        "    Uses the trained model to predict and adjust the price.\n",
        "    \"\"\"\n",
        "    try:\n",
        "        current_data = get_current_data()\n",
        "        predicted_price = model.predict(current_data)[0]\n",
        "\n",
        "        # Apply business rules to the predicted price\n",
        "        # For example, ensure the price doesn't go below a certain margin\n",
        "        min_price = 40\n",
        "        final_price = max(predicted_price, min_price)\n",
        "\n",
        "        print(f\"Current demand: {current_data.loc[0, 'demand']}\")\n",
        "        print(f\"Current inventory: {current_data.loc[0, 'inventory']}\")\n",
        "        print(f\"Current competitor price: {current_data.loc[0, 'competitor_price']}\")\n",
        "        print(f\"Predicted optimal price: ${final_price:.2f}\")\n",
        "\n",
        "    except Exception as e:\n",
        "        print(f\"An error occurred: {e}\")\n",
        "\n",
        "# Run the simulation to get the predicted price\n",
        "if __name__ == \"__main__\":\n",
        "    calculate_new_price()"
      ]
    }
  ]
}